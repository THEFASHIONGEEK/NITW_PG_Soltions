{
  "nbformat": 4,
  "nbformat_minor": 0,
  "metadata": {
    "colab": {
      "name": "Autoencoder_using_keras.ipynb",
      "provenance": []
    },
    "kernelspec": {
      "name": "python3",
      "display_name": "Python 3"
    }
  },
  "cells": [
    {
      "cell_type": "markdown",
      "metadata": {
        "id": "y8Wd93fiPHEN",
        "colab_type": "text"
      },
      "source": [
        "#Building simple Auto encoder\n",
        "single fully-connected neural layer as encoder and as decoder "
      ]
    },
    {
      "cell_type": "code",
      "metadata": {
        "id": "7-7OpVOXPGJw",
        "colab_type": "code",
        "colab": {}
      },
      "source": [
        "from keras.layers import Input, Dense\n",
        "from keras.models import Model\n",
        "\n",
        "# this is the size of our encoded representations\n",
        "encoding_dim = 32  # 32 floats -> compression of factor 24.5, assuming the input is 784 floats\n",
        "\n",
        "# this is our input placeholder\n",
        "input_img = Input(shape=(784,))\n",
        "# \"encoded\" is the encoded representation of the input\n",
        "encoded = Dense(encoding_dim, activation='relu')(input_img)\n",
        "# \"decoded\" is the lossy reconstruction of the input\n",
        "decoded = Dense(784, activation='sigmoid')(encoded)\n",
        "\n",
        "# this model maps an input to its reconstruction\n",
        "autoencoder = Model(input_img, decoded)"
      ],
      "execution_count": 0,
      "outputs": []
    },
    {
      "cell_type": "markdown",
      "metadata": {
        "id": "FwBVi2tQSxf3",
        "colab_type": "text"
      },
      "source": [
        "#<b> Encoder model:\n",
        "\n"
      ]
    },
    {
      "cell_type": "code",
      "metadata": {
        "id": "rWPCeuJe4AsJ",
        "colab_type": "code",
        "colab": {}
      },
      "source": [
        "encoder = Model(input_img, encoded)\n"
      ],
      "execution_count": 0,
      "outputs": []
    },
    {
      "cell_type": "markdown",
      "metadata": {
        "id": "UC3K-32wS7lz",
        "colab_type": "text"
      },
      "source": [
        "#<b>Decoder model:"
      ]
    },
    {
      "cell_type": "code",
      "metadata": {
        "id": "LsZG4lUk4D6F",
        "colab_type": "code",
        "colab": {}
      },
      "source": [
        "# create a placeholder for an encoded (32-dimensional) input\n",
        "encoded_input = Input(shape=(encoding_dim,))\n",
        "# retrieve the last layer of the autoencoder model\n",
        "decoder_layer = autoencoder.layers[-1]\n",
        "# create the decoder model\n",
        "decoder = Model(encoded_input, decoder_layer(encoded_input))"
      ],
      "execution_count": 0,
      "outputs": []
    },
    {
      "cell_type": "markdown",
      "metadata": {
        "id": "3ADZb52STCcN",
        "colab_type": "text"
      },
      "source": [
        "<b>Let's train autoencoder to reconstruct MNIST digits"
      ]
    },
    {
      "cell_type": "code",
      "metadata": {
        "id": "XauAFgsm4GqV",
        "colab_type": "code",
        "colab": {}
      },
      "source": [
        "autoencoder.compile(optimizer='adadelta', loss='binary_crossentropy')\n"
      ],
      "execution_count": 0,
      "outputs": []
    },
    {
      "cell_type": "markdown",
      "metadata": {
        "id": "R6ztP1M6TN4O",
        "colab_type": "text"
      },
      "source": [
        "<b>Let's prepare our input data. We're using MNIST digits, and we're discarding the labels (since we're only interested in encoding/decoding the input images)."
      ]
    },
    {
      "cell_type": "code",
      "metadata": {
        "id": "-d9nHSJW4JOl",
        "colab_type": "code",
        "colab": {}
      },
      "source": [
        "from keras.datasets import mnist\n",
        "import numpy as np\n",
        "(x_train, _), (x_test, _) = mnist.load_data()"
      ],
      "execution_count": 0,
      "outputs": []
    },
    {
      "cell_type": "markdown",
      "metadata": {
        "id": "4YCiSmW5TY4U",
        "colab_type": "text"
      },
      "source": [
        "<b>Normalize all values between 0 and 1 and we will flatten the 28x28 images into vectors of size 784.\n",
        "\n"
      ]
    },
    {
      "cell_type": "code",
      "metadata": {
        "id": "mdfzvav54N5N",
        "colab_type": "code",
        "colab": {
          "base_uri": "https://localhost:8080/",
          "height": 52
        },
        "outputId": "73023bf5-a9ed-4987-da98-312491c96623"
      },
      "source": [
        "x_train = x_train.astype('float32') / 255.\n",
        "x_test = x_test.astype('float32') / 255.\n",
        "x_train = x_train.reshape((len(x_train), np.prod(x_train.shape[1:])))\n",
        "x_test = x_test.reshape((len(x_test), np.prod(x_test.shape[1:])))\n",
        "print(x_train.shape)\n",
        "print(x_test.shape)"
      ],
      "execution_count": 18,
      "outputs": [
        {
          "output_type": "stream",
          "text": [
            "(60000, 784)\n",
            "(10000, 784)\n"
          ],
          "name": "stdout"
        }
      ]
    },
    {
      "cell_type": "markdown",
      "metadata": {
        "id": "TO-eOlRZTfgm",
        "colab_type": "text"
      },
      "source": [
        "<b>Let's train our autoencoder for 50 epochs:"
      ]
    },
    {
      "cell_type": "code",
      "metadata": {
        "id": "vSUfXvRr4VO1",
        "colab_type": "code",
        "colab": {
          "base_uri": "https://localhost:8080/",
          "height": 1000
        },
        "outputId": "3716b74c-8642-40b1-cd04-6b07c0b69357"
      },
      "source": [
        "autoencoder.fit(x_train, x_train,\n",
        "                epochs=50,\n",
        "                batch_size=256,\n",
        "                shuffle=True,\n",
        "                validation_data=(x_test, x_test))"
      ],
      "execution_count": 0,
      "outputs": [
        {
          "output_type": "stream",
          "text": [
            "Train on 60000 samples, validate on 10000 samples\n",
            "Epoch 1/50\n",
            "60000/60000 [==============================] - 3s 55us/step - loss: 0.3576 - val_loss: 0.2708\n",
            "Epoch 2/50\n",
            "60000/60000 [==============================] - 3s 53us/step - loss: 0.2631 - val_loss: 0.2521\n",
            "Epoch 3/50\n",
            "60000/60000 [==============================] - 3s 52us/step - loss: 0.2415 - val_loss: 0.2294\n",
            "Epoch 4/50\n",
            "60000/60000 [==============================] - 3s 52us/step - loss: 0.2215 - val_loss: 0.2119\n",
            "Epoch 5/50\n",
            "60000/60000 [==============================] - 3s 53us/step - loss: 0.2071 - val_loss: 0.1998\n",
            "Epoch 6/50\n",
            "60000/60000 [==============================] - 3s 52us/step - loss: 0.1966 - val_loss: 0.1906\n",
            "Epoch 7/50\n",
            "60000/60000 [==============================] - 3s 52us/step - loss: 0.1884 - val_loss: 0.1833\n",
            "Epoch 8/50\n",
            "60000/60000 [==============================] - 3s 53us/step - loss: 0.1818 - val_loss: 0.1772\n",
            "Epoch 9/50\n",
            "60000/60000 [==============================] - 3s 53us/step - loss: 0.1761 - val_loss: 0.1719\n",
            "Epoch 10/50\n",
            "60000/60000 [==============================] - 3s 54us/step - loss: 0.1709 - val_loss: 0.1671\n",
            "Epoch 11/50\n",
            "60000/60000 [==============================] - 3s 54us/step - loss: 0.1663 - val_loss: 0.1627\n",
            "Epoch 12/50\n",
            "60000/60000 [==============================] - 3s 53us/step - loss: 0.1619 - val_loss: 0.1584\n",
            "Epoch 13/50\n",
            "60000/60000 [==============================] - 3s 53us/step - loss: 0.1579 - val_loss: 0.1546\n",
            "Epoch 14/50\n",
            "60000/60000 [==============================] - 3s 52us/step - loss: 0.1542 - val_loss: 0.1510\n",
            "Epoch 15/50\n",
            "60000/60000 [==============================] - 3s 53us/step - loss: 0.1508 - val_loss: 0.1479\n",
            "Epoch 16/50\n",
            "60000/60000 [==============================] - 3s 52us/step - loss: 0.1477 - val_loss: 0.1449\n",
            "Epoch 17/50\n",
            "60000/60000 [==============================] - 3s 52us/step - loss: 0.1449 - val_loss: 0.1421\n",
            "Epoch 18/50\n",
            "60000/60000 [==============================] - 3s 52us/step - loss: 0.1422 - val_loss: 0.1394\n",
            "Epoch 19/50\n",
            "60000/60000 [==============================] - 3s 53us/step - loss: 0.1396 - val_loss: 0.1370\n",
            "Epoch 20/50\n",
            "60000/60000 [==============================] - 3s 52us/step - loss: 0.1371 - val_loss: 0.1344\n",
            "Epoch 21/50\n",
            "60000/60000 [==============================] - 3s 52us/step - loss: 0.1347 - val_loss: 0.1321\n",
            "Epoch 22/50\n",
            "60000/60000 [==============================] - 3s 53us/step - loss: 0.1324 - val_loss: 0.1299\n",
            "Epoch 23/50\n",
            "60000/60000 [==============================] - 3s 53us/step - loss: 0.1302 - val_loss: 0.1277\n",
            "Epoch 24/50\n",
            "60000/60000 [==============================] - 3s 52us/step - loss: 0.1281 - val_loss: 0.1256\n",
            "Epoch 25/50\n",
            "60000/60000 [==============================] - 3s 55us/step - loss: 0.1261 - val_loss: 0.1236\n",
            "Epoch 26/50\n",
            "60000/60000 [==============================] - 3s 56us/step - loss: 0.1242 - val_loss: 0.1219\n",
            "Epoch 27/50\n",
            "60000/60000 [==============================] - 3s 56us/step - loss: 0.1225 - val_loss: 0.1201\n",
            "Epoch 28/50\n",
            "60000/60000 [==============================] - 3s 53us/step - loss: 0.1208 - val_loss: 0.1184\n",
            "Epoch 29/50\n",
            "60000/60000 [==============================] - 3s 53us/step - loss: 0.1192 - val_loss: 0.1169\n",
            "Epoch 30/50\n",
            "60000/60000 [==============================] - 3s 52us/step - loss: 0.1177 - val_loss: 0.1154\n",
            "Epoch 31/50\n",
            "60000/60000 [==============================] - 3s 52us/step - loss: 0.1163 - val_loss: 0.1141\n",
            "Epoch 32/50\n",
            "60000/60000 [==============================] - 3s 53us/step - loss: 0.1150 - val_loss: 0.1128\n",
            "Epoch 33/50\n",
            "60000/60000 [==============================] - 3s 52us/step - loss: 0.1138 - val_loss: 0.1116\n",
            "Epoch 34/50\n",
            "60000/60000 [==============================] - 3s 52us/step - loss: 0.1127 - val_loss: 0.1106\n",
            "Epoch 35/50\n",
            "60000/60000 [==============================] - 3s 54us/step - loss: 0.1116 - val_loss: 0.1096\n",
            "Epoch 36/50\n",
            "37888/60000 [=================>............] - ETA: 1s - loss: 0.1109"
          ],
          "name": "stdout"
        }
      ]
    },
    {
      "cell_type": "markdown",
      "metadata": {
        "id": "byEx4ftGTmTw",
        "colab_type": "text"
      },
      "source": [
        "<b>After 50 epochs, the autoencoder seems to reach a stable train/test loss value of about 0.11. We can try to visualize the reconstructed inputs and the encoded representations. We will use Matplotlib."
      ]
    },
    {
      "cell_type": "code",
      "metadata": {
        "id": "38HybDdr4Zm-",
        "colab_type": "code",
        "colab": {}
      },
      "source": [
        "# encode and decode some digits\n",
        "# note that we take them from the *test* set\n",
        "encoded_imgs = encoder.predict(x_test)\n",
        "decoded_imgs = decoder.predict(encoded_imgs)"
      ],
      "execution_count": 0,
      "outputs": []
    },
    {
      "cell_type": "code",
      "metadata": {
        "id": "hEgoph0I4eM-",
        "colab_type": "code",
        "colab": {
          "base_uri": "https://localhost:8080/",
          "height": 247
        },
        "outputId": "1f1fbf7f-f3a2-4096-9100-09bebbc8e85d"
      },
      "source": [
        "# use Matplotlib (don't ask)\n",
        "import matplotlib.pyplot as plt\n",
        "\n",
        "n = 10  # how many digits we will display\n",
        "plt.figure(figsize=(20, 4))\n",
        "for i in range(n):\n",
        "    # display original\n",
        "    ax = plt.subplot(2, n, i + 1)\n",
        "    plt.imshow(x_test[i].reshape(28, 28))\n",
        "    plt.gray()\n",
        "    ax.get_xaxis().set_visible(False)\n",
        "    ax.get_yaxis().set_visible(False)\n",
        "\n",
        "    # display reconstruction\n",
        "    ax = plt.subplot(2, n, i + 1 + n)\n",
        "    plt.imshow(decoded_imgs[i].reshape(28, 28))\n",
        "    plt.gray()\n",
        "    ax.get_xaxis().set_visible(False)\n",
        "    ax.get_yaxis().set_visible(False)\n",
        "plt.show()"
      ],
      "execution_count": 11,
      "outputs": [
        {
          "output_type": "display_data",
          "data": {
            "image/png": "[encoded data removed]",
            "text/plain": [
              "<Figure size 1440x288 with 20 Axes>"
            ]
          },
          "metadata": {
            "tags": []
          }
        }
      ]
    }
  ]
}